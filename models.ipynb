{
 "cells": [
  {
   "cell_type": "code",
   "execution_count": 1,
   "id": "83219422-8549-43e0-9347-430f4bafa7da",
   "metadata": {},
   "outputs": [],
   "source": [
    "#Importing libraries\n",
    "import numpy as np\n",
    "import pandas as pd\n",
    "from sklearn.metrics import recall_score\n",
    "from sklearn.metrics import f1_score\n",
    "from sklearn.metrics import mean_squared_error, r2_score\n",
    "from sklearn.metrics import precision_score\n",
    "from sklearn.metrics import classification_report\n",
    "from sklearn import metrics \n",
    "from sklearn.metrics import confusion_matrix\n",
    "from sklearn.model_selection import train_test_split\n",
    "from sklearn.linear_model import LogisticRegression\n",
    "from sklearn.metrics import r2_score,mean_squared_error \n",
    "from sklearn.tree import DecisionTreeClassifier\n",
    "from sklearn.neighbors import KNeighborsClassifier\n",
    "from sklearn.svm import SVC\n",
    "from sklearn import svm"
   ]
  },
  {
   "cell_type": "code",
   "execution_count": 5,
   "id": "7c2081ca-d213-4b3a-895f-074183be99a0",
   "metadata": {},
   "outputs": [
    {
     "name": "stdout",
     "output_type": "stream",
     "text": [
      "Accuracy Score: 0.7796610169491526\n",
      "              precision    recall  f1-score   support\n",
      "\n",
      "           0       0.89      0.74      0.81       225\n",
      "           1       0.65      0.84      0.74       129\n",
      "\n",
      "    accuracy                           0.78       354\n",
      "   macro avg       0.77      0.79      0.77       354\n",
      "weighted avg       0.81      0.78      0.78       354\n",
      "\n",
      "Precision: 0.805\n",
      "Recall: 0.780\n",
      "F-Measure: 0.784\n"
     ]
    },
    {
     "data": {
      "text/plain": [
       "array([[167,  58],\n",
       "       [ 20, 109]], dtype=int64)"
      ]
     },
     "execution_count": 5,
     "metadata": {},
     "output_type": "execute_result"
    }
   ],
   "source": [
    "#state 1, sequence only\n",
    "\n",
    "df = pd.read_excel('mainvec3.xlsx', header=0, parse_dates=[0]) #data import\n",
    "\n",
    "data=np.array(df.iloc[0:, 3:39]) #data exraction(sequence)\n",
    "data_l=np.array(df.iloc[0:, 0:4]) #data with label number\n",
    "target=np.array(df.iloc[0:,2]) #target\n",
    "\n",
    "#train-test split\n",
    "x_train, x_test, y_train, y_test = train_test_split(data, target, test_size=0.25, random_state=5, stratify=target)\n",
    "x_train_l, x_test_l, y_train_l, y_test_l = train_test_split(data_l, target, test_size=0.25, random_state=5, stratify=target)\n",
    "\n",
    "#export label of test data\n",
    "df_l = pd.DataFrame(x_test_l).T\n",
    "df_l.to_excel(excel_writer = \"C:/Users/SAHAND SHOP/Desktop/python project/pp/main model/test2_labels-sequence.xlsx\")\n",
    "\n",
    "#model generation\n",
    "model1 = LogisticRegression(random_state=0, multi_class='ovr',class_weight='balanced',max_iter=10000, penalty='l2', solver='lbfgs',C=1).fit(x_train, y_train)\n",
    "y_pred = model1.predict(x_test)\n",
    "confusion_matrix(y_test, y_pred)\n",
    "\n",
    "#Accuracy statistics\n",
    "print('Accuracy Score:', metrics.accuracy_score(y_test, y_pred))  \n",
    "#Create classification report\n",
    "class_report=classification_report(y_test, y_pred)\n",
    "print(class_report)\n",
    "# calculate prediction\n",
    "precision = precision_score(y_test, y_pred, average='weighted',labels=np.unique(y_pred))\n",
    "print('Precision: %.3f' % precision)\n",
    "# calculate recall\n",
    "recall = recall_score(y_test, y_pred, average='weighted',labels=np.unique(y_pred))\n",
    "print('Recall: %.3f' % recall)\n",
    "# calculate score\n",
    "score = f1_score(y_test, y_pred, average='weighted',labels=np.unique(y_pred))\n",
    "#print(score)\n",
    "print('F-Measure: %.3f' % score)\n",
    "confusion_matrix(y_test, y_pred)\n"
   ]
  },
  {
   "cell_type": "code",
   "execution_count": 32,
   "id": "2197422e-60fa-4b5c-9946-138669ff54d5",
   "metadata": {},
   "outputs": [
    {
     "name": "stdout",
     "output_type": "stream",
     "text": [
      "Accuracy Score: 0.8192090395480226\n",
      "              precision    recall  f1-score   support\n",
      "\n",
      "           0       0.91      0.80      0.85       225\n",
      "           1       0.71      0.86      0.78       129\n",
      "\n",
      "    accuracy                           0.82       354\n",
      "   macro avg       0.81      0.83      0.81       354\n",
      "weighted avg       0.84      0.82      0.82       354\n",
      "\n",
      "Precision: 0.835\n",
      "Recall: 0.819\n",
      "F-Measure: 0.822\n"
     ]
    },
    {
     "data": {
      "text/plain": [
       "array([[179,  46],\n",
       "       [ 18, 111]], dtype=int64)"
      ]
     },
     "execution_count": 32,
     "metadata": {},
     "output_type": "execute_result"
    }
   ],
   "source": [
    "#state 2, features only\n",
    "\n",
    "df = pd.read_excel('mainvec3.xlsx', header=0, parse_dates=[0]) #data import\n",
    "\n",
    "data=np.array(df.iloc[0:, 39:]) #data exraction(sequence)\n",
    "data_l=np.array(df.iloc[0:, 0:4]) #data with label number\n",
    "target=np.array(df.iloc[0:,2]) #target\n",
    "\n",
    "#train-test split\n",
    "x_train, x_test, y_train, y_test = train_test_split(data, target, test_size=0.25, random_state=5, stratify=target)\n",
    "x_train_l, x_test_l, y_train_l, y_test_l = train_test_split(data_l, target, test_size=0.25, random_state=5, stratify=target)\n",
    "\n",
    "#export label of test data\n",
    "df_l = pd.DataFrame(x_test_l).T\n",
    "df_l.to_excel(excel_writer = \"C:/Users/SAHAND SHOP/Desktop/python project/pp/main model/test2_labels-features.xlsx\")\n",
    "\n",
    "#model generation\n",
    "model2 = LogisticRegression(random_state=0, multi_class='ovr',class_weight='balanced',max_iter=10000,penalty='l2', solver='lbfgs',C=1).fit(x_train, y_train)\n",
    "y_pred = model2.predict(x_test)\n",
    "confusion_matrix(y_test, y_pred)\n",
    "\n",
    "#Accuracy statistics\n",
    "print('Accuracy Score:', metrics.accuracy_score(y_test, y_pred))  \n",
    "#Create classification report\n",
    "class_report=classification_report(y_test, y_pred)\n",
    "print(class_report)\n",
    "# calculate prediction\n",
    "precision = precision_score(y_test, y_pred, average='weighted',labels=np.unique(y_pred))\n",
    "print('Precision: %.3f' % precision)\n",
    "# calculate recall\n",
    "recall = recall_score(y_test, y_pred, average='weighted',labels=np.unique(y_pred))\n",
    "print('Recall: %.3f' % recall)\n",
    "# calculate score\n",
    "score = f1_score(y_test, y_pred, average='weighted',labels=np.unique(y_pred))\n",
    "#print(score)\n",
    "print('F-Measure: %.3f' % score)\n",
    "\n",
    "confusion_matrix(y_test, y_pred)"
   ]
  },
  {
   "cell_type": "code",
   "execution_count": 11,
   "id": "9ecb8086-0b5c-461c-b430-d1d3ccf6739d",
   "metadata": {},
   "outputs": [
    {
     "name": "stdout",
     "output_type": "stream",
     "text": [
      "Accuracy Score: 0.8389830508474576\n",
      "              precision    recall  f1-score   support\n",
      "\n",
      "           0       0.91      0.83      0.87       225\n",
      "           1       0.74      0.86      0.80       129\n",
      "\n",
      "    accuracy                           0.84       354\n",
      "   macro avg       0.83      0.84      0.83       354\n",
      "weighted avg       0.85      0.84      0.84       354\n",
      "\n",
      "Precision: 0.849\n",
      "Recall: 0.839\n",
      "F-Measure: 0.841\n"
     ]
    },
    {
     "data": {
      "text/plain": [
       "array([[186,  39],\n",
       "       [ 18, 111]], dtype=int64)"
      ]
     },
     "execution_count": 11,
     "metadata": {},
     "output_type": "execute_result"
    }
   ],
   "source": [
    "#state 3, sequence-feature\n",
    "\n",
    "df = pd.read_excel('mainvec3.xlsx', header=0, parse_dates=[0]) #data import\n",
    "\n",
    "data=np.array(df.iloc[0:, 3:]) #data exraction(sequence)\n",
    "data_l=np.array(df.iloc[0:, 0:4]) #data with label number\n",
    "target=np.array(df.iloc[0:,2]) #target\n",
    "\n",
    "\n",
    "#train-test split\n",
    "x_train, x_test, y_train, y_test = train_test_split(data, target, test_size=0.25, random_state=5, stratify=target)\n",
    "x_train_l, x_test_l, y_train_l, y_test_l = train_test_split(data_l, target, test_size=0.25, random_state=5, stratify=target)\n",
    "\n",
    "#export label of test data\n",
    "df_l = pd.DataFrame(x_test_l).T\n",
    "df_l.to_excel(excel_writer = \"C:/Users/SAHAND SHOP/Desktop/python project/pp/main model/test2_labels-sequence_features.xlsx\")\n",
    "\n",
    "#model generation\n",
    "model3 = LogisticRegression(multi_class='ovr',max_iter=10000,class_weight='balanced', penalty='l2', solver='lbfgs',C=2).fit(x_train, y_train)\n",
    "y_pred = model3.predict(x_test)\n",
    "confusion_matrix(y_test, y_pred)\n",
    "\n",
    "#Accuracy statistics\n",
    "print('Accuracy Score:', metrics.accuracy_score(y_test, y_pred))  \n",
    "#Create classification report\n",
    "class_report=classification_report(y_test, y_pred)\n",
    "print(class_report)\n",
    "# calculate prediction\n",
    "precision = precision_score(y_test, y_pred, average='weighted',labels=np.unique(y_pred))\n",
    "print('Precision: %.3f' % precision)\n",
    "# calculate recall\n",
    "recall = recall_score(y_test, y_pred, average='weighted',labels=np.unique(y_pred))\n",
    "print('Recall: %.3f' % recall)\n",
    "# calculate score\n",
    "score = f1_score(y_test, y_pred, average='weighted',labels=np.unique(y_pred))\n",
    "#print(score)\n",
    "print('F-Measure: %.3f' % score)\n",
    "confusion_matrix(y_test, y_pred)"
   ]
  },
  {
   "cell_type": "code",
   "execution_count": 18,
   "id": "39a36fb0-6b96-4a58-81e0-cb871af34ac6",
   "metadata": {},
   "outputs": [
    {
     "name": "stdout",
     "output_type": "stream",
     "text": [
      "[[1.39 1.39 1.39 1.29 1.39 1.39]\n",
      " [1.39 1.39 1.35 1.32 5.03 0.77]\n",
      " [1.39 1.39 1.04 0.89 1.06 1.01]\n",
      " ...\n",
      " [0.99 0.99 1.29 0.77 0.99 1.29]\n",
      " [0.99 0.99 1.29 0.77 0.99 1.29]\n",
      " [0.99 0.99 0.76 1.35 1.01 0.76]]\n",
      "Accuracy Score: 0.5056497175141242\n",
      "              precision    recall  f1-score   support\n",
      "\n",
      "           0       0.68      0.41      0.52       225\n",
      "           1       0.39      0.67      0.50       129\n",
      "\n",
      "    accuracy                           0.51       354\n",
      "   macro avg       0.54      0.54      0.51       354\n",
      "weighted avg       0.58      0.51      0.51       354\n",
      "\n",
      "Precision: 0.578\n",
      "Recall: 0.506\n",
      "F-Measure: 0.508\n"
     ]
    },
    {
     "data": {
      "text/plain": [
       "array([[ 93, 132],\n",
       "       [ 43,  86]], dtype=int64)"
      ]
     },
     "execution_count": 18,
     "metadata": {},
     "output_type": "execute_result"
    }
   ],
   "source": [
    "#state 2-1, features only - one feature (alpha probibility)\n",
    "\n",
    "df = pd.read_excel('mainvec3.xlsx', header=0, parse_dates=[0]) #data import\n",
    "\n",
    "data=np.array(df.iloc[0:, [39,47,55,63,71,79]]) #data exraction(sequence)\n",
    "data_l=np.array(df.iloc[0:, 0:3]) #data with label number\n",
    "target=np.array(df.iloc[0:,2]) #target\n",
    "print(data)\n",
    "#train-test split\n",
    "x_train, x_test, y_train, y_test = train_test_split(data, target, test_size=0.25, random_state=5, stratify=target)\n",
    "x_train_l, x_test_l, y_train_l, y_test_l = train_test_split(data_l, target, test_size=0.25, random_state=5, stratify=target)\n",
    "\n",
    "#export label of test data\n",
    "df_l = pd.DataFrame(x_test_l).T\n",
    "df_l.to_excel(excel_writer = \"C:/Users/SAHAND SHOP/Desktop/python project/pp/main model/test_labels-features.xlsx\")\n",
    "\n",
    "#model generation\n",
    "model2 = LogisticRegression(random_state=0, multi_class='ovr',class_weight='balanced',max_iter=10000,penalty='l2', solver='lbfgs',C=1).fit(x_train, y_train)\n",
    "y_pred = model2.predict(x_test)\n",
    "confusion_matrix(y_test, y_pred)\n",
    "\n",
    "#Accuracy statistics\n",
    "print('Accuracy Score:', metrics.accuracy_score(y_test, y_pred))  \n",
    "#Create classification report\n",
    "class_report=classification_report(y_test, y_pred)\n",
    "print(class_report)\n",
    "# calculate prediction\n",
    "precision = precision_score(y_test, y_pred, average='weighted',labels=np.unique(y_pred))\n",
    "print('Precision: %.3f' % precision)\n",
    "# calculate recall\n",
    "recall = recall_score(y_test, y_pred, average='weighted',labels=np.unique(y_pred))\n",
    "print('Recall: %.3f' % recall)\n",
    "# calculate score\n",
    "score = f1_score(y_test, y_pred, average='weighted',labels=np.unique(y_pred))\n",
    "#print(score)\n",
    "print('F-Measure: %.3f' % score)\n",
    "confusion_matrix(y_test, y_pred)"
   ]
  },
  {
   "cell_type": "code",
   "execution_count": 20,
   "id": "fedd63ca-a8e2-49bd-ac25-f1be35798ee8",
   "metadata": {},
   "outputs": [
    {
     "name": "stdout",
     "output_type": "stream",
     "text": [
      "[[0.75 0.75 0.75 0.76 0.75 0.75]\n",
      " [0.75 0.75 0.72 1.1  0.91 0.62]\n",
      " [0.75 0.75 1.71 0.55 1.3  1.43]\n",
      " ...\n",
      " [1.5  1.5  0.76 0.62 1.5  0.76]\n",
      " [1.5  1.5  0.76 0.62 1.5  0.76]\n",
      " [1.5  1.5  1.23 0.72 1.43 1.23]]\n",
      "Accuracy Score: 0.7937853107344632\n",
      "              precision    recall  f1-score   support\n",
      "\n",
      "           0       0.89      0.77      0.83       225\n",
      "           1       0.68      0.84      0.75       129\n",
      "\n",
      "    accuracy                           0.79       354\n",
      "   macro avg       0.78      0.80      0.79       354\n",
      "weighted avg       0.81      0.79      0.80       354\n",
      "\n",
      "Precision: 0.813\n",
      "Recall: 0.794\n",
      "F-Measure: 0.797\n"
     ]
    },
    {
     "data": {
      "text/plain": [
       "array([[173,  52],\n",
       "       [ 21, 108]], dtype=int64)"
      ]
     },
     "execution_count": 20,
     "metadata": {},
     "output_type": "execute_result"
    }
   ],
   "source": [
    "#state 2-2, features only - one feature (beta probibility)\n",
    "\n",
    "df = pd.read_excel('mainvec3.xlsx', header=0, parse_dates=[0]) #data import\n",
    "\n",
    "data=np.array(df.iloc[0:, [40,48,56,64,72,80]]) #data exraction(sequence)\n",
    "data_l=np.array(df.iloc[0:, 0:3]) #data with label number\n",
    "target=np.array(df.iloc[0:,2]) #target\n",
    "print(data)\n",
    "#train-test split\n",
    "x_train, x_test, y_train, y_test = train_test_split(data, target, test_size=0.25, random_state=5, stratify=target)\n",
    "x_train_l, x_test_l, y_train_l, y_test_l = train_test_split(data_l, target, test_size=0.25, random_state=5, stratify=target)\n",
    "\n",
    "#export label of test data\n",
    "df_l = pd.DataFrame(x_test_l).T\n",
    "df_l.to_excel(excel_writer = \"C:/Users/SAHAND SHOP/Desktop/python project/pp/main model/test_labels-features.xlsx\")\n",
    "\n",
    "#model generation\n",
    "model2 = LogisticRegression(random_state=0, multi_class='ovr',class_weight='balanced',max_iter=10000,penalty='l2', solver='lbfgs',C=1).fit(x_train, y_train)\n",
    "y_pred = model2.predict(x_test)\n",
    "confusion_matrix(y_test, y_pred)\n",
    "\n",
    "#Accuracy statistics\n",
    "print('Accuracy Score:', metrics.accuracy_score(y_test, y_pred))  \n",
    "#Create classification report\n",
    "class_report=classification_report(y_test, y_pred)\n",
    "print(class_report)\n",
    "# calculate prediction\n",
    "precision = precision_score(y_test, y_pred, average='weighted',labels=np.unique(y_pred))\n",
    "print('Precision: %.3f' % precision)\n",
    "# calculate recall\n",
    "recall = recall_score(y_test, y_pred, average='weighted',labels=np.unique(y_pred))\n",
    "print('Recall: %.3f' % recall)\n",
    "# calculate score\n",
    "score = f1_score(y_test, y_pred, average='weighted',labels=np.unique(y_pred))\n",
    "#print(score)\n",
    "print('F-Measure: %.3f' % score)\n",
    "confusion_matrix(y_test, y_pred)"
   ]
  },
  {
   "cell_type": "code",
   "execution_count": 21,
   "id": "338ad9f0-69ab-48a4-955d-98aaadbe2751",
   "metadata": {},
   "outputs": [
    {
     "name": "stdout",
     "output_type": "stream",
     "text": [
      "[[0.8  0.8  0.8  0.89 0.8  0.8 ]\n",
      " [0.8  0.8  1.33 0.68 0.91 1.39]\n",
      " [0.8  0.8  0.59 1.33 0.79 0.76]\n",
      " ...\n",
      " [0.78 0.78 0.89 1.39 0.78 0.89]\n",
      " [0.78 0.78 0.89 1.39 0.78 0.89]\n",
      " [0.78 0.78 1.07 1.33 0.76 1.07]]\n",
      "Accuracy Score: 0.7853107344632768\n",
      "              precision    recall  f1-score   support\n",
      "\n",
      "           0       0.91      0.74      0.81       225\n",
      "           1       0.65      0.87      0.75       129\n",
      "\n",
      "    accuracy                           0.79       354\n",
      "   macro avg       0.78      0.80      0.78       354\n",
      "weighted avg       0.82      0.79      0.79       354\n",
      "\n",
      "Precision: 0.815\n",
      "Recall: 0.785\n",
      "F-Measure: 0.789\n"
     ]
    },
    {
     "data": {
      "text/plain": [
       "array([[166,  59],\n",
       "       [ 17, 112]], dtype=int64)"
      ]
     },
     "execution_count": 21,
     "metadata": {},
     "output_type": "execute_result"
    }
   ],
   "source": [
    "#state 2-3, features only - one feature (coil probibility)\n",
    "\n",
    "df = pd.read_excel('mainvec3.xlsx', header=0, parse_dates=[0]) #data import\n",
    "\n",
    "data=np.array(df.iloc[0:, [41,49,57,65,73,81]]) #data exraction(sequence)\n",
    "data_l=np.array(df.iloc[0:, 0:3]) #data with label number\n",
    "target=np.array(df.iloc[0:,2]) #target\n",
    "print(data)\n",
    "#train-test split\n",
    "x_train, x_test, y_train, y_test = train_test_split(data, target, test_size=0.25, random_state=5, stratify=target)\n",
    "x_train_l, x_test_l, y_train_l, y_test_l = train_test_split(data_l, target, test_size=0.25, random_state=5, stratify=target)\n",
    "\n",
    "#export label of test data\n",
    "df_l = pd.DataFrame(x_test_l).T\n",
    "df_l.to_excel(excel_writer = \"C:/Users/SAHAND SHOP/Desktop/python project/pp/main model/test_labels-features.xlsx\")\n",
    "\n",
    "#model generation\n",
    "model2 = LogisticRegression(random_state=0, multi_class='ovr',class_weight='balanced',max_iter=10000,penalty='l2', solver='lbfgs',C=1).fit(x_train, y_train)\n",
    "y_pred = model2.predict(x_test)\n",
    "confusion_matrix(y_test, y_pred)\n",
    "\n",
    "#Accuracy statistics\n",
    "print('Accuracy Score:', metrics.accuracy_score(y_test, y_pred))  \n",
    "#Create classification report\n",
    "class_report=classification_report(y_test, y_pred)\n",
    "print(class_report)\n",
    "# calculate prediction\n",
    "precision = precision_score(y_test, y_pred, average='weighted',labels=np.unique(y_pred))\n",
    "print('Precision: %.3f' % precision)\n",
    "# calculate recall\n",
    "recall = recall_score(y_test, y_pred, average='weighted',labels=np.unique(y_pred))\n",
    "print('Recall: %.3f' % recall)\n",
    "# calculate score\n",
    "score = f1_score(y_test, y_pred, average='weighted',labels=np.unique(y_pred))\n",
    "#print(score)\n",
    "print('F-Measure: %.3f' % score)\n",
    "confusion_matrix(y_test, y_pred)"
   ]
  },
  {
   "cell_type": "code",
   "execution_count": 23,
   "id": "bfd7a247-7d89-47a2-879e-4504470b207c",
   "metadata": {},
   "outputs": [
    {
     "name": "stdout",
     "output_type": "stream",
     "text": [
      "[[ 1.8  1.8  1.8 -3.5  1.8  1.8]\n",
      " [ 1.8  1.8 -3.5  3.8 -4.5 -3.5]\n",
      " [ 1.8  1.8  4.5 -3.5 -0.9  2.8]\n",
      " ...\n",
      " [-1.3 -1.3 -3.5 -3.5 -1.3 -3.5]\n",
      " [-1.3 -1.3 -3.5 -3.5 -1.3 -3.5]\n",
      " [-1.3 -1.3 -0.7 -3.5  2.8 -0.7]]\n",
      "Accuracy Score: 0.7655367231638418\n",
      "              precision    recall  f1-score   support\n",
      "\n",
      "           0       0.89      0.72      0.80       225\n",
      "           1       0.63      0.85      0.73       129\n",
      "\n",
      "    accuracy                           0.77       354\n",
      "   macro avg       0.76      0.78      0.76       354\n",
      "weighted avg       0.80      0.77      0.77       354\n",
      "\n",
      "Precision: 0.799\n",
      "Recall: 0.766\n",
      "F-Measure: 0.770\n"
     ]
    },
    {
     "data": {
      "text/plain": [
       "array([[161,  64],\n",
       "       [ 19, 110]], dtype=int64)"
      ]
     },
     "execution_count": 23,
     "metadata": {},
     "output_type": "execute_result"
    }
   ],
   "source": [
    "#state 2-4, features only - one feature (HI)\n",
    "\n",
    "df = pd.read_excel('mainvec3.xlsx', header=0, parse_dates=[0]) #data import\n",
    "\n",
    "data=np.array(df.iloc[0:, [42,50,58,66,74,82]]) #data exraction(sequence)\n",
    "data_l=np.array(df.iloc[0:, 0:3]) #data with label number\n",
    "target=np.array(df.iloc[0:,2]) #target\n",
    "print(data)\n",
    "#train-test split\n",
    "x_train, x_test, y_train, y_test = train_test_split(data, target, test_size=0.25, random_state=5, stratify=target)\n",
    "x_train_l, x_test_l, y_train_l, y_test_l = train_test_split(data_l, target, test_size=0.25, random_state=5, stratify=target)\n",
    "\n",
    "#export label of test data\n",
    "df_l = pd.DataFrame(x_test_l).T\n",
    "df_l.to_excel(excel_writer = \"C:/Users/SAHAND SHOP/Desktop/python project/pp/main model/test_labels-features.xlsx\")\n",
    "\n",
    "#model generation\n",
    "model2 = LogisticRegression(random_state=0, multi_class='ovr',class_weight='balanced',max_iter=10000,penalty='l2', solver='lbfgs',C=1).fit(x_train, y_train)\n",
    "y_pred = model2.predict(x_test)\n",
    "confusion_matrix(y_test, y_pred)\n",
    "\n",
    "#Accuracy statistics\n",
    "print('Accuracy Score:', metrics.accuracy_score(y_test, y_pred))  \n",
    "#Create classification report\n",
    "class_report=classification_report(y_test, y_pred)\n",
    "print(class_report)\n",
    "# calculate prediction\n",
    "precision = precision_score(y_test, y_pred, average='weighted',labels=np.unique(y_pred))\n",
    "print('Precision: %.3f' % precision)\n",
    "# calculate recall\n",
    "recall = recall_score(y_test, y_pred, average='weighted',labels=np.unique(y_pred))\n",
    "print('Recall: %.3f' % recall)\n",
    "# calculate score\n",
    "score = f1_score(y_test, y_pred, average='weighted',labels=np.unique(y_pred))\n",
    "#print(score)\n",
    "print('F-Measure: %.3f' % score)\n",
    "confusion_matrix(y_test, y_pred)"
   ]
  },
  {
   "cell_type": "code",
   "execution_count": 28,
   "id": "a4db2b71-0d41-45cf-9258-66bd2fb75bfe",
   "metadata": {},
   "outputs": [
    {
     "name": "stdout",
     "output_type": "stream",
     "text": [
      "[[0.726 0.726 0.726 0.675 0.726 0.726]\n",
      " [0.726 0.726 0.574 0.836 0.698 0.587]\n",
      " [0.726 0.726 0.834 0.511 0.719 0.764]\n",
      " ...\n",
      " [0.749 0.749 0.675 0.587 0.749 0.675]\n",
      " [0.749 0.749 0.675 0.587 0.749 0.675]\n",
      " [0.749 0.749 0.597 0.574 0.764 0.597]]\n",
      "Accuracy Score: 0.7966101694915254\n",
      "              precision    recall  f1-score   support\n",
      "\n",
      "           0       0.93      0.74      0.82       225\n",
      "           1       0.66      0.90      0.76       129\n",
      "\n",
      "    accuracy                           0.80       354\n",
      "   macro avg       0.80      0.82      0.79       354\n",
      "weighted avg       0.83      0.80      0.80       354\n",
      "\n",
      "Precision: 0.831\n",
      "Recall: 0.797\n",
      "F-Measure: 0.800\n"
     ]
    },
    {
     "data": {
      "text/plain": [
       "array([[166,  59],\n",
       "       [ 13, 116]], dtype=int64)"
      ]
     },
     "execution_count": 28,
     "metadata": {},
     "output_type": "execute_result"
    }
   ],
   "source": [
    "#state 2-5, features only - one feature (BBD)\n",
    "\n",
    "df = pd.read_excel('mainvec3.xlsx', header=0, parse_dates=[0]) #data import\n",
    "\n",
    "data=np.array(df.iloc[0:, [43,51,59,67,75,83]]) #data exraction(sequence)\n",
    "data_l=np.array(df.iloc[0:, 0:3]) #data with label number\n",
    "target=np.array(df.iloc[0:,2]) #target\n",
    "print(data)\n",
    "#train-test split\n",
    "x_train, x_test, y_train, y_test = train_test_split(data, target, test_size=0.25, random_state=5, stratify=target)\n",
    "x_train_l, x_test_l, y_train_l, y_test_l = train_test_split(data_l, target, test_size=0.25, random_state=5, stratify=target)\n",
    "\n",
    "#export label of test data\n",
    "df_l = pd.DataFrame(x_test_l).T\n",
    "df_l.to_excel(excel_writer = \"C:/Users/SAHAND SHOP/Desktop/python project/pp/main model/test_labels-features.xlsx\")\n",
    "\n",
    "#model generation\n",
    "model2 = LogisticRegression(random_state=0, multi_class='ovr',class_weight='balanced',max_iter=10000,penalty='l2', solver='lbfgs',C=1).fit(x_train, y_train)\n",
    "y_pred = model2.predict(x_test)\n",
    "confusion_matrix(y_test, y_pred)\n",
    "\n",
    "#Accuracy statistics\n",
    "print('Accuracy Score:', metrics.accuracy_score(y_test, y_pred))  \n",
    "#Create classification report\n",
    "class_report=classification_report(y_test, y_pred)\n",
    "print(class_report)\n",
    "# calculate prediction\n",
    "precision = precision_score(y_test, y_pred, average='weighted',labels=np.unique(y_pred))\n",
    "print('Precision: %.3f' % precision)\n",
    "# calculate recall\n",
    "recall = recall_score(y_test, y_pred, average='weighted',labels=np.unique(y_pred))\n",
    "print('Recall: %.3f' % recall)\n",
    "# calculate score\n",
    "score = f1_score(y_test, y_pred, average='weighted',labels=np.unique(y_pred))\n",
    "#print(score)\n",
    "print('F-Measure: %.3f' % score)\n",
    "confusion_matrix(y_test, y_pred)"
   ]
  },
  {
   "cell_type": "code",
   "execution_count": 29,
   "id": "c6b78f7f-f60e-41e5-8cf4-9bb34a37a536",
   "metadata": {},
   "outputs": [
    {
     "name": "stdout",
     "output_type": "stream",
     "text": [
      "[[0.648 0.648 0.648 0.366 0.648 0.648]\n",
      " [0.648 0.648 0.929 0.745 0.659 0.58 ]\n",
      " [0.648 0.648 0.878 0.623 0.733 0.724]\n",
      " ...\n",
      " [0.731 0.731 0.366 0.58  0.731 0.366]\n",
      " [0.731 0.731 0.366 0.58  0.731 0.366]\n",
      " [0.731 0.731 0.637 0.929 0.724 0.637]]\n",
      "Accuracy Score: 0.7203389830508474\n",
      "              precision    recall  f1-score   support\n",
      "\n",
      "           0       0.86      0.67      0.75       225\n",
      "           1       0.58      0.81      0.68       129\n",
      "\n",
      "    accuracy                           0.72       354\n",
      "   macro avg       0.72      0.74      0.72       354\n",
      "weighted avg       0.76      0.72      0.73       354\n",
      "\n",
      "Precision: 0.760\n",
      "Recall: 0.720\n",
      "F-Measure: 0.726\n"
     ]
    },
    {
     "data": {
      "text/plain": [
       "array([[150,  75],\n",
       "       [ 24, 105]], dtype=int64)"
      ]
     },
     "execution_count": 29,
     "metadata": {},
     "output_type": "execute_result"
    }
   ],
   "source": [
    "#state 2-6, features only - one feature (BBA)\n",
    "\n",
    "df = pd.read_excel('mainvec3.xlsx', header=0, parse_dates=[0]) #data import\n",
    "\n",
    "data=np.array(df.iloc[0:, [44,52,60,68,76,84]]) #data exraction(sequence)\n",
    "data_l=np.array(df.iloc[0:, 0:3]) #data with label number\n",
    "target=np.array(df.iloc[0:,2]) #target\n",
    "print(data)\n",
    "#train-test split\n",
    "x_train, x_test, y_train, y_test = train_test_split(data, target, test_size=0.25, random_state=5, stratify=target)\n",
    "x_train_l, x_test_l, y_train_l, y_test_l = train_test_split(data_l, target, test_size=0.25, random_state=5, stratify=target)\n",
    "\n",
    "#export label of test data\n",
    "df_l = pd.DataFrame(x_test_l).T\n",
    "df_l.to_excel(excel_writer = \"C:/Users/SAHAND SHOP/Desktop/python project/pp/main model/test_labels-features.xlsx\")\n",
    "\n",
    "#model generation\n",
    "model2 = LogisticRegression(random_state=0, multi_class='ovr',class_weight='balanced',max_iter=10000,penalty='l2', solver='lbfgs',C=1).fit(x_train, y_train)\n",
    "y_pred = model2.predict(x_test)\n",
    "confusion_matrix(y_test, y_pred)\n",
    "\n",
    "#Accuracy statistics\n",
    "print('Accuracy Score:', metrics.accuracy_score(y_test, y_pred))  \n",
    "#Create classification report\n",
    "class_report=classification_report(y_test, y_pred)\n",
    "print(class_report)\n",
    "# calculate prediction\n",
    "precision = precision_score(y_test, y_pred, average='weighted',labels=np.unique(y_pred))\n",
    "print('Precision: %.3f' % precision)\n",
    "# calculate recall\n",
    "recall = recall_score(y_test, y_pred, average='weighted',labels=np.unique(y_pred))\n",
    "print('Recall: %.3f' % recall)\n",
    "# calculate score\n",
    "score = f1_score(y_test, y_pred, average='weighted',labels=np.unique(y_pred))\n",
    "#print(score)\n",
    "print('F-Measure: %.3f' % score)\n",
    "confusion_matrix(y_test, y_pred)"
   ]
  },
  {
   "cell_type": "code",
   "execution_count": 30,
   "id": "3541d784-fbee-4c06-add5-44ea96168441",
   "metadata": {},
   "outputs": [
    {
     "name": "stdout",
     "output_type": "stream",
     "text": [
      "[[19.97 19.97 19.97 17.43 19.97 19.97]\n",
      " [19.97 19.97 19.19 25.53 21.03 18.57]\n",
      " [19.97 19.97 25.96 17.39 28.53 27.42]\n",
      " ...\n",
      " [26.17 26.17 17.43 18.57 26.17 17.43]\n",
      " [26.17 26.17 17.43 18.57 26.17 17.43]\n",
      " [26.17 26.17 19.91 19.19 27.42 19.91]]\n",
      "Accuracy Score: 0.7853107344632768\n",
      "              precision    recall  f1-score   support\n",
      "\n",
      "           0       0.89      0.76      0.82       225\n",
      "           1       0.66      0.84      0.74       129\n",
      "\n",
      "    accuracy                           0.79       354\n",
      "   macro avg       0.78      0.80      0.78       354\n",
      "weighted avg       0.81      0.79      0.79       354\n",
      "\n",
      "Precision: 0.807\n",
      "Recall: 0.785\n",
      "F-Measure: 0.789\n"
     ]
    },
    {
     "data": {
      "text/plain": [
       "array([[170,  55],\n",
       "       [ 21, 108]], dtype=int64)"
      ]
     },
     "execution_count": 30,
     "metadata": {},
     "output_type": "execute_result"
    }
   ],
   "source": [
    "#state 2-7, features only - one feature (PD)\n",
    "\n",
    "df = pd.read_excel('mainvec3.xlsx', header=0, parse_dates=[0]) #data import\n",
    "\n",
    "data=np.array(df.iloc[0:, [45,53,61,69,77,85]]) #data exraction(sequence)\n",
    "data_l=np.array(df.iloc[0:, 0:3]) #data with label number\n",
    "target=np.array(df.iloc[0:,2]) #target\n",
    "print(data)\n",
    "#train-test split\n",
    "x_train, x_test, y_train, y_test = train_test_split(data, target, test_size=0.25, random_state=5, stratify=target)\n",
    "x_train_l, x_test_l, y_train_l, y_test_l = train_test_split(data_l, target, test_size=0.25, random_state=5, stratify=target)\n",
    "\n",
    "#export label of test data\n",
    "df_l = pd.DataFrame(x_test_l).T\n",
    "df_l.to_excel(excel_writer = \"C:/Users/SAHAND SHOP/Desktop/python project/pp/main model/test_labels-features.xlsx\")\n",
    "\n",
    "#model generation\n",
    "model2 = LogisticRegression(random_state=0, multi_class='ovr',class_weight='balanced',max_iter=10000,penalty='l2', solver='lbfgs',C=1).fit(x_train, y_train)\n",
    "y_pred = model2.predict(x_test)\n",
    "confusion_matrix(y_test, y_pred)\n",
    "\n",
    "#Accuracy statistics\n",
    "print('Accuracy Score:', metrics.accuracy_score(y_test, y_pred))  \n",
    "#Create classification report\n",
    "class_report=classification_report(y_test, y_pred)\n",
    "print(class_report)\n",
    "# calculate prediction\n",
    "precision = precision_score(y_test, y_pred, average='weighted',labels=np.unique(y_pred))\n",
    "print('Precision: %.3f' % precision)\n",
    "# calculate recall\n",
    "recall = recall_score(y_test, y_pred, average='weighted',labels=np.unique(y_pred))\n",
    "print('Recall: %.3f' % recall)\n",
    "# calculate score\n",
    "score = f1_score(y_test, y_pred, average='weighted',labels=np.unique(y_pred))\n",
    "#print(score)\n",
    "print('F-Measure: %.3f' % score)\n",
    "confusion_matrix(y_test, y_pred)"
   ]
  },
  {
   "cell_type": "code",
   "execution_count": 37,
   "id": "6b689503-b820-4a4d-9bd8-99fcc4e80ff1",
   "metadata": {},
   "outputs": [
    {
     "name": "stdout",
     "output_type": "stream",
     "text": [
      "[[ 5.937  5.937  5.937 39.89   5.937  5.937]\n",
      " [ 5.937  5.937 42.52   3.782 37.5   18.89 ]\n",
      " [ 5.937  5.937  3.371 29.49  10.73   5.98 ]\n",
      " ...\n",
      " [10.41  10.41  39.89  18.89  10.41  39.89 ]\n",
      " [10.41  10.41  39.89  18.89  10.41  39.89 ]\n",
      " [10.41  10.41   9.304 42.52   5.98   9.304]]\n",
      "Accuracy Score: 0.6779661016949152\n",
      "              precision    recall  f1-score   support\n",
      "\n",
      "           0       0.85      0.60      0.70       225\n",
      "           1       0.54      0.81      0.65       129\n",
      "\n",
      "    accuracy                           0.68       354\n",
      "   macro avg       0.69      0.71      0.68       354\n",
      "weighted avg       0.74      0.68      0.68       354\n",
      "\n",
      "Precision: 0.736\n",
      "Recall: 0.678\n",
      "F-Measure: 0.683\n"
     ]
    },
    {
     "data": {
      "text/plain": [
       "array([[135,  90],\n",
       "       [ 24, 105]], dtype=int64)"
      ]
     },
     "execution_count": 37,
     "metadata": {},
     "output_type": "execute_result"
    }
   ],
   "source": [
    "#state 2-8, features only - one feature (DM)\n",
    "\n",
    "df = pd.read_excel('mainvec3.xlsx', header=0, parse_dates=[0]) #data import\n",
    "\n",
    "data=np.array(df.iloc[0:, [46,54,62,70,78,86]]) #data exraction(sequence)\n",
    "data_l=np.array(df.iloc[0:, 0:3]) #data with label number\n",
    "target=np.array(df.iloc[0:,2]) #target\n",
    "print(data)\n",
    "#train-test split\n",
    "x_train, x_test, y_train, y_test = train_test_split(data, target, test_size=0.25, random_state=5, stratify=target)\n",
    "x_train_l, x_test_l, y_train_l, y_test_l = train_test_split(data_l, target, test_size=0.25, random_state=5, stratify=target)\n",
    "\n",
    "#export label of test data\n",
    "df_l = pd.DataFrame(x_test_l).T\n",
    "df_l.to_excel(excel_writer = \"C:/Users/SAHAND SHOP/Desktop/python project/pp/main model/test_labels-features.xlsx\")\n",
    "\n",
    "#model generation\n",
    "model2 = LogisticRegression(random_state=0, multi_class='ovr',class_weight='balanced',max_iter=10000,penalty='l2', solver='lbfgs',C=1).fit(x_train, y_train)\n",
    "y_pred = model2.predict(x_test)\n",
    "confusion_matrix(y_test, y_pred)\n",
    "\n",
    "#Accuracy statistics\n",
    "print('Accuracy Score:', metrics.accuracy_score(y_test, y_pred))  \n",
    "#Create classification report\n",
    "class_report=classification_report(y_test, y_pred)\n",
    "print(class_report)\n",
    "# calculate prediction\n",
    "precision = precision_score(y_test, y_pred, average='weighted',labels=np.unique(y_pred))\n",
    "print('Precision: %.3f' % precision)\n",
    "# calculate recall\n",
    "recall = recall_score(y_test, y_pred, average='weighted',labels=np.unique(y_pred))\n",
    "print('Recall: %.3f' % recall)\n",
    "# calculate score\n",
    "score = f1_score(y_test, y_pred, average='weighted',labels=np.unique(y_pred))\n",
    "#print(score)\n",
    "print('F-Measure: %.3f' % score)\n",
    "confusion_matrix(y_test, y_pred)"
   ]
  },
  {
   "cell_type": "code",
   "execution_count": 15,
   "id": "c147c089-2b82-4ae3-bdbf-c2257a604c09",
   "metadata": {},
   "outputs": [
    {
     "name": "stdout",
     "output_type": "stream",
     "text": [
      "Accuracy Score: 0.827683615819209\n",
      "              precision    recall  f1-score   support\n",
      "\n",
      "           0       0.85      0.88      0.87       225\n",
      "           1       0.78      0.74      0.76       129\n",
      "\n",
      "    accuracy                           0.83       354\n",
      "   macro avg       0.82      0.81      0.81       354\n",
      "weighted avg       0.83      0.83      0.83       354\n",
      "\n",
      "Precision: 0.826\n",
      "Recall: 0.828\n",
      "F-Measure: 0.827\n"
     ]
    },
    {
     "data": {
      "image/png": "[encoded data removed]",
      "text/plain": [
       "<Figure size 432x288 with 1 Axes>"
      ]
     },
     "metadata": {
      "needs_background": "light"
     },
     "output_type": "display_data"
    }
   ],
   "source": [
    "#state 4, aggrescan\n",
    "\n",
    "df = pd.read_excel('aggrescan_output.xlsx', header=0, parse_dates=[0]) #data import\n",
    "y_test=np.array(df.iloc[0:,2]) #target\n",
    "y_pred=np.array(df.iloc[0:,3])\n",
    "\n",
    "confusion_matrix(y_test, y_pred)\n",
    "\n",
    "#Accuracy statistics\n",
    "print('Accuracy Score:', metrics.accuracy_score(y_test, y_pred))  \n",
    "#Create classification report\n",
    "class_report=classification_report(y_test, y_pred)\n",
    "print(class_report)\n",
    "# calculate prediction\n",
    "precision = precision_score(y_test, y_pred, average='weighted',labels=np.unique(y_pred))\n",
    "print('Precision: %.3f' % precision)\n",
    "# calculate recall\n",
    "recall = recall_score(y_test, y_pred, average='weighted',labels=np.unique(y_pred))\n",
    "print('Recall: %.3f' % recall)\n",
    "# calculate score\n",
    "score = f1_score(y_test, y_pred, average='weighted',labels=np.unique(y_pred))\n",
    "#print(score)\n",
    "print('F-Measure: %.3f' % score)\n",
    "\n",
    "confusion_matrix(y_test, y_pred)\n",
    "\n",
    "import matplotlib.pyplot as plt\n",
    "from sklearn.metrics import roc_curve\n",
    "fpr, tpr, threshold = roc_curve(y_test, y_pred)\n",
    "plt.plot([0, 1], [0, 1], 'k--')\n",
    "plt.plot(fpr,tpr)\n",
    "plt.xlabel('FPR')\n",
    "plt.show()"
   ]
  },
  {
   "cell_type": "code",
   "execution_count": 14,
   "id": "a63b5a23-0c73-4620-a5d6-b41838a2a645",
   "metadata": {},
   "outputs": [
    {
     "name": "stdout",
     "output_type": "stream",
     "text": [
      "Accuracy Score: 0.788135593220339\n",
      "              precision    recall  f1-score   support\n",
      "\n",
      "           0       0.83      0.83      0.83       225\n",
      "           1       0.71      0.71      0.71       129\n",
      "\n",
      "    accuracy                           0.79       354\n",
      "   macro avg       0.77      0.77      0.77       354\n",
      "weighted avg       0.79      0.79      0.79       354\n",
      "\n",
      "Precision: 0.788\n",
      "Recall: 0.788\n",
      "F-Measure: 0.788\n"
     ]
    },
    {
     "data": {
      "text/plain": [
       "array([[187,  38],\n",
       "       [ 37,  92]], dtype=int64)"
      ]
     },
     "execution_count": 14,
     "metadata": {},
     "output_type": "execute_result"
    }
   ],
   "source": [
    "#state 5, metamyl\n",
    "\n",
    "df = pd.read_excel('metamyl_output.xlsx', header=0, parse_dates=[0]) #data import\n",
    "y_test=np.array(df.iloc[0:,2]) #target\n",
    "y_pred=np.array(df.iloc[0:,3])\n",
    "\n",
    "confusion_matrix(y_test, y_pred)\n",
    "\n",
    "#Accuracy statistics\n",
    "print('Accuracy Score:', metrics.accuracy_score(y_test, y_pred))  \n",
    "#Create classification report\n",
    "class_report=classification_report(y_test, y_pred)\n",
    "print(class_report)\n",
    "# calculate prediction\n",
    "precision = precision_score(y_test, y_pred, average='weighted',labels=np.unique(y_pred))\n",
    "print('Precision: %.3f' % precision)\n",
    "# calculate recall\n",
    "recall = recall_score(y_test, y_pred, average='weighted',labels=np.unique(y_pred))\n",
    "print('Recall: %.3f' % recall)\n",
    "# calculate score\n",
    "score = f1_score(y_test, y_pred, average='weighted',labels=np.unique(y_pred))\n",
    "#print(score)\n",
    "print('F-Measure: %.3f' % score)\n",
    "\n",
    "confusion_matrix(y_test, y_pred)\n",
    "\n",
    "\n"
   ]
  },
  {
   "cell_type": "code",
   "execution_count": 2,
   "id": "92e75ce1-eb21-4257-a204-8417cef994de",
   "metadata": {},
   "outputs": [
    {
     "name": "stdout",
     "output_type": "stream",
     "text": [
      "Accuracy Score: 0.7259887005649718\n",
      "              precision    recall  f1-score   support\n",
      "\n",
      "           0       0.71      0.96      0.82       225\n",
      "           1       0.81      0.33      0.46       129\n",
      "\n",
      "    accuracy                           0.73       354\n",
      "   macro avg       0.76      0.64      0.64       354\n",
      "weighted avg       0.75      0.73      0.69       354\n",
      "\n",
      "Precision: 0.747\n",
      "Recall: 0.726\n",
      "F-Measure: 0.688\n"
     ]
    },
    {
     "data": {
      "text/plain": [
       "array([[215,  10],\n",
       "       [ 87,  42]], dtype=int64)"
      ]
     },
     "execution_count": 2,
     "metadata": {},
     "output_type": "execute_result"
    }
   ],
   "source": [
    "#state 6, pasta2\n",
    "\n",
    "df = pd.read_excel('pasta2_output.xlsx', header=0, parse_dates=[0]) #data import\n",
    "y_test=np.array(df.iloc[0:,2]) #target\n",
    "y_pred=np.array(df.iloc[0:,3])\n",
    "\n",
    "confusion_matrix(y_test, y_pred)\n",
    "\n",
    "#Accuracy statistics\n",
    "print('Accuracy Score:', metrics.accuracy_score(y_test, y_pred))  \n",
    "#Create classification report\n",
    "class_report=classification_report(y_test, y_pred)\n",
    "print(class_report)\n",
    "# calculate prediction\n",
    "precision = precision_score(y_test, y_pred, average='weighted',labels=np.unique(y_pred))\n",
    "print('Precision: %.3f' % precision)\n",
    "# calculate recall\n",
    "recall = recall_score(y_test, y_pred, average='weighted',labels=np.unique(y_pred))\n",
    "print('Recall: %.3f' % recall)\n",
    "# calculate score\n",
    "score = f1_score(y_test, y_pred, average='weighted',labels=np.unique(y_pred))\n",
    "#print(score)\n",
    "print('F-Measure: %.3f' % score)\n",
    "\n",
    "confusion_matrix(y_test, y_pred)\n",
    "\n"
   ]
  },
  {
   "cell_type": "code",
   "execution_count": 3,
   "id": "cd04fcf1-6126-494c-8abb-aa43167a9784",
   "metadata": {},
   "outputs": [
    {
     "name": "stdout",
     "output_type": "stream",
     "text": [
      "Accuracy Score: 0.7372881355932204\n",
      "              precision    recall  f1-score   support\n",
      "\n",
      "           0       0.72      0.96      0.82       225\n",
      "           1       0.82      0.36      0.50       129\n",
      "\n",
      "    accuracy                           0.74       354\n",
      "   macro avg       0.77      0.66      0.66       354\n",
      "weighted avg       0.76      0.74      0.70       354\n",
      "\n",
      "Precision: 0.758\n",
      "Recall: 0.737\n",
      "F-Measure: 0.704\n"
     ]
    },
    {
     "data": {
      "text/plain": [
       "array([[215,  10],\n",
       "       [ 83,  46]], dtype=int64)"
      ]
     },
     "execution_count": 3,
     "metadata": {},
     "output_type": "execute_result"
    }
   ],
   "source": [
    "#state 7, waltz\n",
    "\n",
    "df = pd.read_excel('waltz_output.xlsx', header=0, parse_dates=[0]) #data import\n",
    "y_test=np.array(df.iloc[0:,2]) #target\n",
    "y_pred=np.array(df.iloc[0:,3])\n",
    "\n",
    "confusion_matrix(y_test, y_pred)\n",
    "\n",
    "#Accuracy statistics\n",
    "print('Accuracy Score:', metrics.accuracy_score(y_test, y_pred))  \n",
    "#Create classification report\n",
    "class_report=classification_report(y_test, y_pred)\n",
    "print(class_report)\n",
    "# calculate prediction\n",
    "precision = precision_score(y_test, y_pred, average='weighted',labels=np.unique(y_pred))\n",
    "print('Precision: %.3f' % precision)\n",
    "# calculate recall\n",
    "recall = recall_score(y_test, y_pred, average='weighted',labels=np.unique(y_pred))\n",
    "print('Recall: %.3f' % recall)\n",
    "# calculate score\n",
    "score = f1_score(y_test, y_pred, average='weighted',labels=np.unique(y_pred))\n",
    "#print(score)\n",
    "print('F-Measure: %.3f' % score)\n",
    "\n",
    "confusion_matrix(y_test, y_pred)\n",
    "\n"
   ]
  },
  {
   "cell_type": "code",
   "execution_count": 8,
   "id": "f4a4bc86-3ba4-4e75-aea9-18010aae350d",
   "metadata": {},
   "outputs": [
    {
     "name": "stdout",
     "output_type": "stream",
     "text": [
      "Accuracy Score: 0.8389830508474576\n",
      "              precision    recall  f1-score   support\n",
      "\n",
      "           0       0.87      0.88      0.87       225\n",
      "           1       0.79      0.77      0.78       129\n",
      "\n",
      "    accuracy                           0.84       354\n",
      "   macro avg       0.83      0.82      0.83       354\n",
      "weighted avg       0.84      0.84      0.84       354\n",
      "\n",
      "Precision: 0.838\n",
      "Recall: 0.839\n",
      "F-Measure: 0.839\n"
     ]
    },
    {
     "data": {
      "text/plain": [
       "array([[198,  27],\n",
       "       [ 30,  99]], dtype=int64)"
      ]
     },
     "execution_count": 8,
     "metadata": {},
     "output_type": "execute_result"
    }
   ],
   "source": [
    "#state 3, sequence-feature- adaboost\n",
    "\n",
    "from sklearn.ensemble import AdaBoostClassifier\n",
    "from sklearn.datasets import make_classification\n",
    "\n",
    "df = pd.read_excel('mainvec3.xlsx', header=0, parse_dates=[0]) #data import\n",
    "\n",
    "data=np.array(df.iloc[0:, 3:]) #data exraction(sequence)\n",
    "data_l=np.array(df.iloc[0:, 0:4]) #data with label number\n",
    "target=np.array(df.iloc[0:,2]) #target\n",
    "\n",
    "\n",
    "#train-test split\n",
    "x_train, x_test, y_train, y_test = train_test_split(data, target, test_size=0.25, random_state=5, stratify=target)\n",
    "x_train_l, x_test_l, y_train_l, y_test_l = train_test_split(data_l, target, test_size=0.25, random_state=5, stratify=target)\n",
    "\n",
    "#export label of test data\n",
    "df_l = pd.DataFrame(x_test_l).T\n",
    "df_l.to_excel(excel_writer = \"C:/Users/SAHAND SHOP/Desktop/python project/pp/main model/test2_labels-sequence_features.xlsx\")\n",
    "\n",
    "#model generation\n",
    "clf = AdaBoostClassifier(n_estimators=50, random_state=5,learning_rate=1).fit(x_train, y_train)\n",
    "y_pred = clf.predict(x_test)\n",
    "confusion_matrix(y_test, y_pred)\n",
    "\n",
    "#Accuracy statistics\n",
    "print('Accuracy Score:', metrics.accuracy_score(y_test, y_pred))  \n",
    "#Create classification report\n",
    "class_report=classification_report(y_test, y_pred)\n",
    "print(class_report)\n",
    "# calculate prediction\n",
    "precision = precision_score(y_test, y_pred, average='weighted',labels=np.unique(y_pred))\n",
    "print('Precision: %.3f' % precision)\n",
    "# calculate recall\n",
    "recall = recall_score(y_test, y_pred, average='weighted',labels=np.unique(y_pred))\n",
    "print('Recall: %.3f' % recall)\n",
    "# calculate score\n",
    "score = f1_score(y_test, y_pred, average='weighted',labels=np.unique(y_pred))\n",
    "#print(score)\n",
    "print('F-Measure: %.3f' % score)\n",
    "confusion_matrix(y_test, y_pred)"
   ]
  },
  {
   "cell_type": "code",
   "execution_count": 11,
   "id": "9585c9e4-7ddb-434d-a609-a33573d02e6b",
   "metadata": {},
   "outputs": [
    {
     "name": "stdout",
     "output_type": "stream",
     "text": [
      "Accuracy Score: 0.8107344632768362\n",
      "              precision    recall  f1-score   support\n",
      "\n",
      "           0       0.86      0.84      0.85       225\n",
      "           1       0.73      0.75      0.74       129\n",
      "\n",
      "    accuracy                           0.81       354\n",
      "   macro avg       0.80      0.80      0.80       354\n",
      "weighted avg       0.81      0.81      0.81       354\n",
      "\n",
      "Precision: 0.812\n",
      "Recall: 0.811\n",
      "F-Measure: 0.811\n"
     ]
    },
    {
     "data": {
      "text/plain": [
       "array([[190,  35],\n",
       "       [ 32,  97]], dtype=int64)"
      ]
     },
     "execution_count": 11,
     "metadata": {},
     "output_type": "execute_result"
    }
   ],
   "source": [
    "#state 3, sequence-feature- neural network\n",
    "\n",
    "from sklearn.neural_network import MLPClassifier\n",
    "from sklearn.datasets import make_classification\n",
    "from sklearn.model_selection import train_test_split\n",
    "\n",
    "df = pd.read_excel('mainvec3.xlsx', header=0, parse_dates=[0]) #data import\n",
    "\n",
    "data=np.array(df.iloc[0:, 3:]) #data exraction(sequence)\n",
    "data_l=np.array(df.iloc[0:, 0:4]) #data with label number\n",
    "target=np.array(df.iloc[0:,2]) #target\n",
    "\n",
    "\n",
    "#train-test split\n",
    "x_train, x_test, y_train, y_test = train_test_split(data, target, test_size=0.25, random_state=5, stratify=target)\n",
    "x_train_l, x_test_l, y_train_l, y_test_l = train_test_split(data_l, target, test_size=0.25, random_state=5, stratify=target)\n",
    "\n",
    "#export label of test data\n",
    "df_l = pd.DataFrame(x_test_l).T\n",
    "df_l.to_excel(excel_writer = \"C:/Users/SAHAND SHOP/Desktop/python project/pp/main model/test2_labels-sequence_features.xlsx\")\n",
    "\n",
    "#model generation\n",
    "clf = MLPClassifier(random_state=1, max_iter=500).fit(x_train, y_train)\n",
    "y_pred = clf.predict(x_test)\n",
    "confusion_matrix(y_test, y_pred)\n",
    "\n",
    "#Accuracy statistics\n",
    "print('Accuracy Score:', metrics.accuracy_score(y_test, y_pred))  \n",
    "#Create classification report\n",
    "class_report=classification_report(y_test, y_pred)\n",
    "print(class_report)\n",
    "# calculate prediction\n",
    "precision = precision_score(y_test, y_pred, average='weighted',labels=np.unique(y_pred))\n",
    "print('Precision: %.3f' % precision)\n",
    "# calculate recall\n",
    "recall = recall_score(y_test, y_pred, average='weighted',labels=np.unique(y_pred))\n",
    "print('Recall: %.3f' % recall)\n",
    "# calculate score\n",
    "score = f1_score(y_test, y_pred, average='weighted',labels=np.unique(y_pred))\n",
    "#print(score)\n",
    "print('F-Measure: %.3f' % score)\n",
    "confusion_matrix(y_test, y_pred)"
   ]
  },
  {
   "cell_type": "code",
   "execution_count": 21,
   "id": "2c2d53fd-f144-4f37-aff6-29ecce276ac9",
   "metadata": {},
   "outputs": [
    {
     "name": "stdout",
     "output_type": "stream",
     "text": [
      "Accuracy Score: 0.8361581920903954\n",
      "              precision    recall  f1-score   support\n",
      "\n",
      "           0       0.87      0.87      0.87       225\n",
      "           1       0.78      0.78      0.78       129\n",
      "\n",
      "    accuracy                           0.84       354\n",
      "   macro avg       0.82      0.82      0.82       354\n",
      "weighted avg       0.84      0.84      0.84       354\n",
      "\n",
      "Precision: 0.836\n",
      "Recall: 0.836\n",
      "F-Measure: 0.836\n"
     ]
    },
    {
     "data": {
      "text/plain": [
       "array([[196,  29],\n",
       "       [ 29, 100]], dtype=int64)"
      ]
     },
     "execution_count": 21,
     "metadata": {},
     "output_type": "execute_result"
    }
   ],
   "source": [
    "#state 3, sequence-feature- neural network\n",
    "\n",
    "from sklearn import svm\n",
    "\n",
    "df = pd.read_excel('mainvec3.xlsx', header=0, parse_dates=[0]) #data import\n",
    "\n",
    "data=np.array(df.iloc[0:, 3:]) #data exraction(sequence)\n",
    "data_l=np.array(df.iloc[0:, 0:4]) #data with label number\n",
    "target=np.array(df.iloc[0:,2]) #target\n",
    "\n",
    "\n",
    "#train-test split\n",
    "x_train, x_test, y_train, y_test = train_test_split(data, target, test_size=0.25, random_state=5, stratify=target)\n",
    "x_train_l, x_test_l, y_train_l, y_test_l = train_test_split(data_l, target, test_size=0.25, random_state=5, stratify=target)\n",
    "\n",
    "#export label of test data\n",
    "df_l = pd.DataFrame(x_test_l).T\n",
    "df_l.to_excel(excel_writer = \"C:/Users/SAHAND SHOP/Desktop/python project/pp/main model/test2_labels-sequence_features.xlsx\")\n",
    "\n",
    "#model generation\n",
    "clf = svm.NuSVC(class_weight='balanced').fit(x_train, y_train)\n",
    "y_pred = clf.predict(x_test)\n",
    "confusion_matrix(y_test, y_pred)\n",
    "\n",
    "#Accuracy statistics\n",
    "print('Accuracy Score:', metrics.accuracy_score(y_test, y_pred))  \n",
    "#Create classification report\n",
    "class_report=classification_report(y_test, y_pred)\n",
    "print(class_report)\n",
    "# calculate prediction\n",
    "precision = precision_score(y_test, y_pred, average='weighted',labels=np.unique(y_pred))\n",
    "print('Precision: %.3f' % precision)\n",
    "# calculate recall\n",
    "recall = recall_score(y_test, y_pred, average='weighted',labels=np.unique(y_pred))\n",
    "print('Recall: %.3f' % recall)\n",
    "# calculate score\n",
    "score = f1_score(y_test, y_pred, average='weighted',labels=np.unique(y_pred))\n",
    "#print(score)\n",
    "print('F-Measure: %.3f' % score)\n",
    "confusion_matrix(y_test, y_pred)"
   ]
  },
  {
   "cell_type": "code",
   "execution_count": 16,
   "id": "09a55ef6-024c-415d-abfc-a6ff1a30af13",
   "metadata": {},
   "outputs": [
    {
     "name": "stdout",
     "output_type": "stream",
     "text": [
      "Accuracy Score: 0.8333333333333334\n",
      "              precision    recall  f1-score   support\n",
      "\n",
      "           0       0.84      0.91      0.87       225\n",
      "           1       0.82      0.70      0.75       129\n",
      "\n",
      "    accuracy                           0.83       354\n",
      "   macro avg       0.83      0.80      0.81       354\n",
      "weighted avg       0.83      0.83      0.83       354\n",
      "\n",
      "Precision: 0.832\n",
      "Recall: 0.833\n",
      "F-Measure: 0.830\n"
     ]
    },
    {
     "data": {
      "text/plain": [
       "array([[205,  20],\n",
       "       [ 39,  90]], dtype=int64)"
      ]
     },
     "execution_count": 16,
     "metadata": {},
     "output_type": "execute_result"
    }
   ],
   "source": [
    "#state 1, SVM\n",
    "\n",
    "df = pd.read_excel('mainvec3.xlsx', header=0, parse_dates=[0]) #data import\n",
    "\n",
    "data=np.array(df.iloc[0:, [3,4,5,6,7,8,9,10,11,12,13,14,15,16,17,18,19,20,21,22,23,24,25,26,27,28,29,30,31,32,33,34,35,36,37,38,40,48,56,64,72,80]]) #data exraction(sequence)\n",
    "data_l=np.array(df.iloc[0:, 0:4]) #data with label number\n",
    "target=np.array(df.iloc[0:,2]) #target\n",
    "\n",
    "#train-test split\n",
    "x_train, x_test, y_train, y_test = train_test_split(data, target, test_size=0.25, random_state=5, stratify=target)\n",
    "x_train_l, x_test_l, y_train_l, y_test_l = train_test_split(data_l, target, test_size=0.25, random_state=5, stratify=target)\n",
    "\n",
    "#export label of test data\n",
    "df_l = pd.DataFrame(x_test_l).T\n",
    "df_l.to_excel(excel_writer = \"C:/Users/SAHAND SHOP/Desktop/python project/pp/main model/test2_labels-sequence.xlsx\")\n",
    "\n",
    "#model generation\n",
    "clf = svm.SVC().fit(x_train, y_train)\n",
    "y_pred = clf.predict(x_test)\n",
    "confusion_matrix(y_test, y_pred)\n",
    "\n",
    "#Accuracy statistics\n",
    "print('Accuracy Score:', metrics.accuracy_score(y_test, y_pred))  \n",
    "#Create classification report\n",
    "class_report=classification_report(y_test, y_pred)\n",
    "print(class_report)\n",
    "# calculate prediction\n",
    "precision = precision_score(y_test, y_pred, average='weighted',labels=np.unique(y_pred))\n",
    "print('Precision: %.3f' % precision)\n",
    "# calculate recall\n",
    "recall = recall_score(y_test, y_pred, average='weighted',labels=np.unique(y_pred))\n",
    "print('Recall: %.3f' % recall)\n",
    "# calculate score\n",
    "score = f1_score(y_test, y_pred, average='weighted',labels=np.unique(y_pred))\n",
    "#print(score)\n",
    "print('F-Measure: %.3f' % score)\n",
    "confusion_matrix(y_test, y_pred)"
   ]
  },
  {
   "cell_type": "code",
   "execution_count": null,
   "id": "b816da3c-d4ee-4a48-bdfd-a598ab6336b6",
   "metadata": {},
   "outputs": [],
   "source": []
  }
 ],
 "metadata": {
  "kernelspec": {
   "display_name": "Python 3 (ipykernel)",
   "language": "python",
   "name": "python3"
  },
  "language_info": {
   "codemirror_mode": {
    "name": "ipython",
    "version": 3
   },
   "file_extension": ".py",
   "mimetype": "text/x-python",
   "name": "python",
   "nbconvert_exporter": "python",
   "pygments_lexer": "ipython3",
   "version": "3.7.7"
  }
 },
 "nbformat": 4,
 "nbformat_minor": 5
}
